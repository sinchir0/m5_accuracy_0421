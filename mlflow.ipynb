{
 "cells": [
  {
   "cell_type": "code",
   "execution_count": 1,
   "metadata": {},
   "outputs": [],
   "source": [
    "import os  \n",
    "from mlflow import log_metric, log_param, log_artifact  \n",
    "\n",
    "if __name__ == \"__main__\":  \n",
    "    # Log a parameter (key-value pair)  \n",
    "    log_param(\"param1\", 5)  \n",
    "\n",
    "    # Log a metric; metrics can be updated throughout the run  \n",
    "    log_metric(\"foo\", 1)  \n",
    "    log_metric(\"foo\", 2)  \n",
    "    log_metric(\"foo\", 3)  \n",
    "\n",
    "    # Log an artifact (output file)  \n",
    "    with open(\"output.txt\", \"w\") as f:  \n",
    "        f.write(\"Hello world!\")  \n",
    "    log_artifact(\"output.txt\")  "
   ]
  },
  {
   "cell_type": "code",
   "execution_count": null,
   "metadata": {},
   "outputs": [
    {
     "name": "stdout",
     "output_type": "stream",
     "text": [
      "[2020-03-30 00:18:50 +0000] [2358] [INFO] Starting gunicorn 20.0.4\n",
      "[2020-03-30 00:18:50 +0000] [2358] [INFO] Listening at: http://10.138.0.10:5000 (2358)\n",
      "[2020-03-30 00:18:50 +0000] [2358] [INFO] Using worker: sync\n",
      "[2020-03-30 00:18:50 +0000] [2361] [INFO] Booting worker with pid: 2361\n"
     ]
    }
   ],
   "source": [
    "!mlflow ui -h intel-20200326-090226"
   ]
  },
  {
   "cell_type": "code",
   "execution_count": null,
   "metadata": {},
   "outputs": [],
   "source": []
  }
 ],
 "metadata": {
  "kernelspec": {
   "display_name": "Python 3",
   "language": "python",
   "name": "python3"
  },
  "language_info": {
   "codemirror_mode": {
    "name": "ipython",
    "version": 3
   },
   "file_extension": ".py",
   "mimetype": "text/x-python",
   "name": "python",
   "nbconvert_exporter": "python",
   "pygments_lexer": "ipython3",
   "version": "3.7.6"
  }
 },
 "nbformat": 4,
 "nbformat_minor": 4
}
